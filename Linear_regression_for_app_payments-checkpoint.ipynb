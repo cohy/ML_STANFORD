{
 "cells": [
  {
   "cell_type": "code",
   "execution_count": 1,
   "metadata": {},
   "outputs": [],
   "source": [
    "import numpy as np \n",
    "import pandas as pd \n",
    "import seaborn as sns\n",
    "pd.set_option('display.max.column',50)\n",
    "from matplotlib import pyplot as plt\n",
    "sns.set()\n"
   ]
  },
  {
   "cell_type": "code",
   "execution_count": 2,
   "metadata": {},
   "outputs": [],
   "source": [
    "df = pd.read_csv('E:/Sonu/MLcourse.ai/App_Payment_Linear_regression/ltv_prediction_demo_data.csv')"
   ]
  },
  {
   "cell_type": "code",
   "execution_count": 3,
   "metadata": {},
   "outputs": [
    {
     "data": {
      "text/html": [
       "<div>\n",
       "<style scoped>\n",
       "    .dataframe tbody tr th:only-of-type {\n",
       "        vertical-align: middle;\n",
       "    }\n",
       "\n",
       "    .dataframe tbody tr th {\n",
       "        vertical-align: top;\n",
       "    }\n",
       "\n",
       "    .dataframe thead th {\n",
       "        text-align: right;\n",
       "    }\n",
       "</style>\n",
       "<table border=\"1\" class=\"dataframe\">\n",
       "  <thead>\n",
       "    <tr style=\"text-align: right;\">\n",
       "      <th></th>\n",
       "      <th>Unnamed: 0</th>\n",
       "      <th>idApp</th>\n",
       "      <th>dt</th>\n",
       "      <th>ltvDay1</th>\n",
       "      <th>ltvDay2</th>\n",
       "      <th>ltvDay3</th>\n",
       "      <th>ltvDay4</th>\n",
       "      <th>ltvDay5</th>\n",
       "      <th>ltvDay6</th>\n",
       "      <th>ltvDay7</th>\n",
       "      <th>ltvDay8</th>\n",
       "      <th>ltvDay30</th>\n",
       "    </tr>\n",
       "  </thead>\n",
       "  <tbody>\n",
       "    <tr>\n",
       "      <td>0</td>\n",
       "      <td>0</td>\n",
       "      <td>279</td>\n",
       "      <td>2018-02-18</td>\n",
       "      <td>0</td>\n",
       "      <td>0</td>\n",
       "      <td>0</td>\n",
       "      <td>2190000</td>\n",
       "      <td>2190000</td>\n",
       "      <td>2190000</td>\n",
       "      <td>5780000</td>\n",
       "      <td>5780000</td>\n",
       "      <td>5780000</td>\n",
       "    </tr>\n",
       "    <tr>\n",
       "      <td>1</td>\n",
       "      <td>1</td>\n",
       "      <td>279</td>\n",
       "      <td>2018-04-20</td>\n",
       "      <td>0</td>\n",
       "      <td>0</td>\n",
       "      <td>0</td>\n",
       "      <td>0</td>\n",
       "      <td>0</td>\n",
       "      <td>0</td>\n",
       "      <td>0</td>\n",
       "      <td>0</td>\n",
       "      <td>0</td>\n",
       "    </tr>\n",
       "    <tr>\n",
       "      <td>2</td>\n",
       "      <td>2</td>\n",
       "      <td>5620</td>\n",
       "      <td>2017-09-28</td>\n",
       "      <td>0</td>\n",
       "      <td>0</td>\n",
       "      <td>0</td>\n",
       "      <td>0</td>\n",
       "      <td>0</td>\n",
       "      <td>0</td>\n",
       "      <td>0</td>\n",
       "      <td>0</td>\n",
       "      <td>0</td>\n",
       "    </tr>\n",
       "    <tr>\n",
       "      <td>3</td>\n",
       "      <td>3</td>\n",
       "      <td>279</td>\n",
       "      <td>2017-12-11</td>\n",
       "      <td>0</td>\n",
       "      <td>0</td>\n",
       "      <td>0</td>\n",
       "      <td>0</td>\n",
       "      <td>0</td>\n",
       "      <td>0</td>\n",
       "      <td>0</td>\n",
       "      <td>3652414</td>\n",
       "      <td>12123190</td>\n",
       "    </tr>\n",
       "    <tr>\n",
       "      <td>4</td>\n",
       "      <td>4</td>\n",
       "      <td>5620</td>\n",
       "      <td>2018-02-06</td>\n",
       "      <td>1490000</td>\n",
       "      <td>1490000</td>\n",
       "      <td>1490000</td>\n",
       "      <td>1490000</td>\n",
       "      <td>1490000</td>\n",
       "      <td>1490000</td>\n",
       "      <td>1490000</td>\n",
       "      <td>1490000</td>\n",
       "      <td>1490000</td>\n",
       "    </tr>\n",
       "    <tr>\n",
       "      <td>5</td>\n",
       "      <td>5</td>\n",
       "      <td>5645</td>\n",
       "      <td>2017-09-19</td>\n",
       "      <td>0</td>\n",
       "      <td>0</td>\n",
       "      <td>0</td>\n",
       "      <td>0</td>\n",
       "      <td>0</td>\n",
       "      <td>0</td>\n",
       "      <td>0</td>\n",
       "      <td>0</td>\n",
       "      <td>1249075</td>\n",
       "    </tr>\n",
       "    <tr>\n",
       "      <td>6</td>\n",
       "      <td>6</td>\n",
       "      <td>313</td>\n",
       "      <td>2017-07-18</td>\n",
       "      <td>0</td>\n",
       "      <td>0</td>\n",
       "      <td>0</td>\n",
       "      <td>0</td>\n",
       "      <td>0</td>\n",
       "      <td>0</td>\n",
       "      <td>0</td>\n",
       "      <td>0</td>\n",
       "      <td>2100000</td>\n",
       "    </tr>\n",
       "    <tr>\n",
       "      <td>7</td>\n",
       "      <td>7</td>\n",
       "      <td>313</td>\n",
       "      <td>2017-08-09</td>\n",
       "      <td>154259611</td>\n",
       "      <td>154259611</td>\n",
       "      <td>154259611</td>\n",
       "      <td>154259611</td>\n",
       "      <td>154259611</td>\n",
       "      <td>154259611</td>\n",
       "      <td>154259611</td>\n",
       "      <td>154259611</td>\n",
       "      <td>154259611</td>\n",
       "    </tr>\n",
       "    <tr>\n",
       "      <td>8</td>\n",
       "      <td>8</td>\n",
       "      <td>5620</td>\n",
       "      <td>2018-02-08</td>\n",
       "      <td>1490000</td>\n",
       "      <td>1490000</td>\n",
       "      <td>1490000</td>\n",
       "      <td>1490000</td>\n",
       "      <td>1490000</td>\n",
       "      <td>1490000</td>\n",
       "      <td>1490000</td>\n",
       "      <td>1490000</td>\n",
       "      <td>1490000</td>\n",
       "    </tr>\n",
       "    <tr>\n",
       "      <td>9</td>\n",
       "      <td>9</td>\n",
       "      <td>5620</td>\n",
       "      <td>2017-12-30</td>\n",
       "      <td>0</td>\n",
       "      <td>1490000</td>\n",
       "      <td>1490000</td>\n",
       "      <td>1490000</td>\n",
       "      <td>1490000</td>\n",
       "      <td>1490000</td>\n",
       "      <td>1490000</td>\n",
       "      <td>1490000</td>\n",
       "      <td>1490000</td>\n",
       "    </tr>\n",
       "  </tbody>\n",
       "</table>\n",
       "</div>"
      ],
      "text/plain": [
       "   Unnamed: 0  idApp          dt    ltvDay1    ltvDay2    ltvDay3    ltvDay4  \\\n",
       "0           0    279  2018-02-18          0          0          0    2190000   \n",
       "1           1    279  2018-04-20          0          0          0          0   \n",
       "2           2   5620  2017-09-28          0          0          0          0   \n",
       "3           3    279  2017-12-11          0          0          0          0   \n",
       "4           4   5620  2018-02-06    1490000    1490000    1490000    1490000   \n",
       "5           5   5645  2017-09-19          0          0          0          0   \n",
       "6           6    313  2017-07-18          0          0          0          0   \n",
       "7           7    313  2017-08-09  154259611  154259611  154259611  154259611   \n",
       "8           8   5620  2018-02-08    1490000    1490000    1490000    1490000   \n",
       "9           9   5620  2017-12-30          0    1490000    1490000    1490000   \n",
       "\n",
       "     ltvDay5    ltvDay6    ltvDay7    ltvDay8   ltvDay30  \n",
       "0    2190000    2190000    5780000    5780000    5780000  \n",
       "1          0          0          0          0          0  \n",
       "2          0          0          0          0          0  \n",
       "3          0          0          0    3652414   12123190  \n",
       "4    1490000    1490000    1490000    1490000    1490000  \n",
       "5          0          0          0          0    1249075  \n",
       "6          0          0          0          0    2100000  \n",
       "7  154259611  154259611  154259611  154259611  154259611  \n",
       "8    1490000    1490000    1490000    1490000    1490000  \n",
       "9    1490000    1490000    1490000    1490000    1490000  "
      ]
     },
     "execution_count": 3,
     "metadata": {},
     "output_type": "execute_result"
    }
   ],
   "source": [
    "df.head(10)"
   ]
  },
  {
   "cell_type": "code",
   "execution_count": 4,
   "metadata": {},
   "outputs": [
    {
     "data": {
      "text/plain": [
       "Index(['Unnamed: 0', 'idApp', 'dt', 'ltvDay1', 'ltvDay2', 'ltvDay3', 'ltvDay4',\n",
       "       'ltvDay5', 'ltvDay6', 'ltvDay7', 'ltvDay8', 'ltvDay30'],\n",
       "      dtype='object')"
      ]
     },
     "execution_count": 4,
     "metadata": {},
     "output_type": "execute_result"
    }
   ],
   "source": [
    "df.columns"
   ]
  },
  {
   "cell_type": "code",
   "execution_count": 5,
   "metadata": {},
   "outputs": [
    {
     "data": {
      "text/plain": [
       "(3324150, 12)"
      ]
     },
     "execution_count": 5,
     "metadata": {},
     "output_type": "execute_result"
    }
   ],
   "source": [
    "df.shape"
   ]
  },
  {
   "cell_type": "code",
   "execution_count": 6,
   "metadata": {},
   "outputs": [
    {
     "data": {
      "text/plain": [
       "130"
      ]
     },
     "execution_count": 6,
     "metadata": {},
     "output_type": "execute_result"
    }
   ],
   "source": [
    "len(df.idApp.unique())\n"
   ]
  },
  {
   "cell_type": "code",
   "execution_count": 7,
   "metadata": {},
   "outputs": [],
   "source": [
    "df = df.drop(['Unnamed: 0'],axis = 1)"
   ]
  },
  {
   "cell_type": "code",
   "execution_count": 8,
   "metadata": {},
   "outputs": [
    {
     "data": {
      "text/plain": [
       "Index(['idApp', 'dt', 'ltvDay1', 'ltvDay2', 'ltvDay3', 'ltvDay4', 'ltvDay5',\n",
       "       'ltvDay6', 'ltvDay7', 'ltvDay8', 'ltvDay30'],\n",
       "      dtype='object')"
      ]
     },
     "execution_count": 8,
     "metadata": {},
     "output_type": "execute_result"
    }
   ],
   "source": [
    "df.columns"
   ]
  },
  {
   "cell_type": "code",
   "execution_count": 9,
   "metadata": {},
   "outputs": [
    {
     "data": {
      "text/plain": [
       "5620    1077387\n",
       "279      532735\n",
       "5619     484202\n",
       "278      282209\n",
       "313      221160\n",
       "314      166953\n",
       "95       129041\n",
       "5645     115304\n",
       "5644      53333\n",
       "156       48223\n",
       "59        36146\n",
       "152       27755\n",
       "73        27033\n",
       "157       14035\n",
       "160       12427\n",
       "Name: idApp, dtype: int64"
      ]
     },
     "execution_count": 9,
     "metadata": {},
     "output_type": "execute_result"
    }
   ],
   "source": [
    "df.idApp.value_counts().head(15)"
   ]
  },
  {
   "cell_type": "code",
   "execution_count": 10,
   "metadata": {},
   "outputs": [
    {
     "data": {
      "image/png": "[encoded data removed]",
      "text/plain": [
       "<Figure size 432x288 with 1 Axes>"
      ]
     },
     "metadata": {
      "needs_background": "light"
     },
     "output_type": "display_data"
    }
   ],
   "source": [
    "df.loc[df['idApp'] == 5620 ,'ltvDay30'].apply(np.log1p).hist();"
   ]
  },
  {
   "cell_type": "code",
   "execution_count": 11,
   "metadata": {},
   "outputs": [
    {
     "data": {
      "text/plain": [
       "<matplotlib.axes._subplots.AxesSubplot at 0x1bf819dc408>"
      ]
     },
     "execution_count": 11,
     "metadata": {},
     "output_type": "execute_result"
    },
    {
     "data": {
      "image/png": "[encoded data removed]",
      "text/plain": [
       "<Figure size 432x288 with 1 Axes>"
      ]
     },
     "metadata": {
      "needs_background": "light"
     },
     "output_type": "display_data"
    }
   ],
   "source": [
    "df.loc[(df['idApp']==5620 ) &  (df['ltvDay30'] > 0 ),'ltvDay30' ].hist(bins =30)"
   ]
  },
  {
   "cell_type": "code",
   "execution_count": 12,
   "metadata": {},
   "outputs": [
    {
     "data": {
      "text/plain": [
       "<matplotlib.collections.PathCollection at 0x1bf81a7e548>"
      ]
     },
     "execution_count": 12,
     "metadata": {},
     "output_type": "execute_result"
    },
    {
     "data": {
      "image/png": "[encoded data removed]",
      "text/plain": [
       "<Figure size 432x288 with 1 Axes>"
      ]
     },
     "metadata": {
      "needs_background": "light"
     },
     "output_type": "display_data"
    }
   ],
   "source": [
    "plt.scatter(df.loc[df['idApp'] == 5620 ,'ltvDay8'],df.loc[df['idApp']==5620,'ltvDay30'])"
   ]
  },
  {
   "cell_type": "code",
   "execution_count": 13,
   "metadata": {},
   "outputs": [
    {
     "data": {
      "text/plain": [
       "('2017-06-18', '2018-06-18')"
      ]
     },
     "execution_count": 13,
     "metadata": {},
     "output_type": "execute_result"
    }
   ],
   "source": [
    "df.dt.min(),df.dt.max()"
   ]
  },
  {
   "cell_type": "code",
   "execution_count": 14,
   "metadata": {},
   "outputs": [],
   "source": [
    "ID_APP = 160"
   ]
  },
  {
   "cell_type": "markdown",
   "metadata": {},
   "source": [
    "##splitting the data frame into train and test volumes on the basis of dates "
   ]
  },
  {
   "cell_type": "code",
   "execution_count": 15,
   "metadata": {},
   "outputs": [
    {
     "data": {
      "text/plain": [
       "('2017-06-18', '2018-06-18')"
      ]
     },
     "execution_count": 15,
     "metadata": {},
     "output_type": "execute_result"
    }
   ],
   "source": [
    "df.loc[df['idApp']== 160 ,'dt'].min() , df.loc[df['idApp']==160,'dt'].max()"
   ]
  },
  {
   "cell_type": "code",
   "execution_count": 16,
   "metadata": {},
   "outputs": [
    {
     "data": {
      "text/html": [
       "<div>\n",
       "<style scoped>\n",
       "    .dataframe tbody tr th:only-of-type {\n",
       "        vertical-align: middle;\n",
       "    }\n",
       "\n",
       "    .dataframe tbody tr th {\n",
       "        vertical-align: top;\n",
       "    }\n",
       "\n",
       "    .dataframe thead th {\n",
       "        text-align: right;\n",
       "    }\n",
       "</style>\n",
       "<table border=\"1\" class=\"dataframe\">\n",
       "  <thead>\n",
       "    <tr style=\"text-align: right;\">\n",
       "      <th></th>\n",
       "      <th>idApp</th>\n",
       "      <th>dt</th>\n",
       "      <th>ltvDay1</th>\n",
       "      <th>ltvDay2</th>\n",
       "      <th>ltvDay3</th>\n",
       "      <th>ltvDay4</th>\n",
       "      <th>ltvDay5</th>\n",
       "      <th>ltvDay6</th>\n",
       "      <th>ltvDay7</th>\n",
       "      <th>ltvDay8</th>\n",
       "      <th>ltvDay30</th>\n",
       "    </tr>\n",
       "  </thead>\n",
       "  <tbody>\n",
       "    <tr>\n",
       "      <td>282</td>\n",
       "      <td>160</td>\n",
       "      <td>2017-11-19</td>\n",
       "      <td>234675045</td>\n",
       "      <td>234675045</td>\n",
       "      <td>234675045</td>\n",
       "      <td>234675045</td>\n",
       "      <td>234675045</td>\n",
       "      <td>234675045</td>\n",
       "      <td>234675045</td>\n",
       "      <td>234675045</td>\n",
       "      <td>234675045</td>\n",
       "    </tr>\n",
       "    <tr>\n",
       "      <td>545</td>\n",
       "      <td>160</td>\n",
       "      <td>2017-09-03</td>\n",
       "      <td>0</td>\n",
       "      <td>0</td>\n",
       "      <td>0</td>\n",
       "      <td>0</td>\n",
       "      <td>0</td>\n",
       "      <td>0</td>\n",
       "      <td>0</td>\n",
       "      <td>0</td>\n",
       "      <td>33005600</td>\n",
       "    </tr>\n",
       "    <tr>\n",
       "      <td>1145</td>\n",
       "      <td>160</td>\n",
       "      <td>2017-06-27</td>\n",
       "      <td>0</td>\n",
       "      <td>0</td>\n",
       "      <td>0</td>\n",
       "      <td>0</td>\n",
       "      <td>0</td>\n",
       "      <td>0</td>\n",
       "      <td>0</td>\n",
       "      <td>3607174</td>\n",
       "      <td>55295244</td>\n",
       "    </tr>\n",
       "    <tr>\n",
       "      <td>1210</td>\n",
       "      <td>160</td>\n",
       "      <td>2017-07-18</td>\n",
       "      <td>0</td>\n",
       "      <td>0</td>\n",
       "      <td>0</td>\n",
       "      <td>0</td>\n",
       "      <td>0</td>\n",
       "      <td>0</td>\n",
       "      <td>0</td>\n",
       "      <td>0</td>\n",
       "      <td>11824863</td>\n",
       "    </tr>\n",
       "    <tr>\n",
       "      <td>2022</td>\n",
       "      <td>160</td>\n",
       "      <td>2017-09-30</td>\n",
       "      <td>400334579</td>\n",
       "      <td>400334579</td>\n",
       "      <td>400334579</td>\n",
       "      <td>400334579</td>\n",
       "      <td>400334579</td>\n",
       "      <td>400334579</td>\n",
       "      <td>400334579</td>\n",
       "      <td>400334579</td>\n",
       "      <td>400334579</td>\n",
       "    </tr>\n",
       "    <tr>\n",
       "      <td>...</td>\n",
       "      <td>...</td>\n",
       "      <td>...</td>\n",
       "      <td>...</td>\n",
       "      <td>...</td>\n",
       "      <td>...</td>\n",
       "      <td>...</td>\n",
       "      <td>...</td>\n",
       "      <td>...</td>\n",
       "      <td>...</td>\n",
       "      <td>...</td>\n",
       "      <td>...</td>\n",
       "    </tr>\n",
       "    <tr>\n",
       "      <td>3319697</td>\n",
       "      <td>160</td>\n",
       "      <td>2017-09-05</td>\n",
       "      <td>0</td>\n",
       "      <td>0</td>\n",
       "      <td>0</td>\n",
       "      <td>3543200</td>\n",
       "      <td>3543200</td>\n",
       "      <td>4612400</td>\n",
       "      <td>16411600</td>\n",
       "      <td>19954800</td>\n",
       "      <td>23498000</td>\n",
       "    </tr>\n",
       "    <tr>\n",
       "      <td>3322850</td>\n",
       "      <td>160</td>\n",
       "      <td>2017-11-23</td>\n",
       "      <td>0</td>\n",
       "      <td>0</td>\n",
       "      <td>0</td>\n",
       "      <td>0</td>\n",
       "      <td>0</td>\n",
       "      <td>0</td>\n",
       "      <td>0</td>\n",
       "      <td>0</td>\n",
       "      <td>1069200</td>\n",
       "    </tr>\n",
       "    <tr>\n",
       "      <td>3322988</td>\n",
       "      <td>160</td>\n",
       "      <td>2017-09-04</td>\n",
       "      <td>1585566</td>\n",
       "      <td>4223987</td>\n",
       "      <td>4223987</td>\n",
       "      <td>4223987</td>\n",
       "      <td>4223987</td>\n",
       "      <td>4223987</td>\n",
       "      <td>4223987</td>\n",
       "      <td>4223987</td>\n",
       "      <td>4223987</td>\n",
       "    </tr>\n",
       "    <tr>\n",
       "      <td>3323068</td>\n",
       "      <td>160</td>\n",
       "      <td>2017-09-15</td>\n",
       "      <td>0</td>\n",
       "      <td>2138400</td>\n",
       "      <td>2138400</td>\n",
       "      <td>2138400</td>\n",
       "      <td>2138400</td>\n",
       "      <td>2138400</td>\n",
       "      <td>2138400</td>\n",
       "      <td>2138400</td>\n",
       "      <td>2138400</td>\n",
       "    </tr>\n",
       "    <tr>\n",
       "      <td>3323496</td>\n",
       "      <td>160</td>\n",
       "      <td>2017-08-10</td>\n",
       "      <td>0</td>\n",
       "      <td>0</td>\n",
       "      <td>0</td>\n",
       "      <td>0</td>\n",
       "      <td>0</td>\n",
       "      <td>0</td>\n",
       "      <td>0</td>\n",
       "      <td>0</td>\n",
       "      <td>1069200</td>\n",
       "    </tr>\n",
       "  </tbody>\n",
       "</table>\n",
       "<p>5983 rows × 11 columns</p>\n",
       "</div>"
      ],
      "text/plain": [
       "         idApp          dt    ltvDay1    ltvDay2    ltvDay3    ltvDay4  \\\n",
       "282        160  2017-11-19  234675045  234675045  234675045  234675045   \n",
       "545        160  2017-09-03          0          0          0          0   \n",
       "1145       160  2017-06-27          0          0          0          0   \n",
       "1210       160  2017-07-18          0          0          0          0   \n",
       "2022       160  2017-09-30  400334579  400334579  400334579  400334579   \n",
       "...        ...         ...        ...        ...        ...        ...   \n",
       "3319697    160  2017-09-05          0          0          0    3543200   \n",
       "3322850    160  2017-11-23          0          0          0          0   \n",
       "3322988    160  2017-09-04    1585566    4223987    4223987    4223987   \n",
       "3323068    160  2017-09-15          0    2138400    2138400    2138400   \n",
       "3323496    160  2017-08-10          0          0          0          0   \n",
       "\n",
       "           ltvDay5    ltvDay6    ltvDay7    ltvDay8   ltvDay30  \n",
       "282      234675045  234675045  234675045  234675045  234675045  \n",
       "545              0          0          0          0   33005600  \n",
       "1145             0          0          0    3607174   55295244  \n",
       "1210             0          0          0          0   11824863  \n",
       "2022     400334579  400334579  400334579  400334579  400334579  \n",
       "...            ...        ...        ...        ...        ...  \n",
       "3319697    3543200    4612400   16411600   19954800   23498000  \n",
       "3322850          0          0          0          0    1069200  \n",
       "3322988    4223987    4223987    4223987    4223987    4223987  \n",
       "3323068    2138400    2138400    2138400    2138400    2138400  \n",
       "3323496          0          0          0          0    1069200  \n",
       "\n",
       "[5983 rows x 11 columns]"
      ]
     },
     "execution_count": 16,
     "metadata": {},
     "output_type": "execute_result"
    }
   ],
   "source": [
    "df.loc[(df['idApp']==160) &  (df['dt'] <'2017-12=31') & (df['ltvDay30'] != 0)]"
   ]
  },
  {
   "cell_type": "code",
   "execution_count": 17,
   "metadata": {},
   "outputs": [],
   "source": [
    "train_df = df[(df['idApp'] == 160) & (df['dt'] > '2018-01-01') & (df['dt'] < '2018-02-28')]\n",
    "valid_df = df[(df['idApp']==160) & (df.dt >= '2018-04-01') & (df.dt <= '2018-04-30')]"
   ]
  },
  {
   "cell_type": "code",
   "execution_count": 18,
   "metadata": {},
   "outputs": [
    {
     "data": {
      "text/plain": [
       "((1830, 11), (789, 11))"
      ]
     },
     "execution_count": 18,
     "metadata": {},
     "output_type": "execute_result"
    }
   ],
   "source": [
    "train_df.shape , valid_df.shape"
   ]
  },
  {
   "cell_type": "code",
   "execution_count": 19,
   "metadata": {},
   "outputs": [],
   "source": [
    "features = ['ltvDay%d' % i for  i in range(1,9)]"
   ]
  },
  {
   "cell_type": "code",
   "execution_count": 20,
   "metadata": {},
   "outputs": [
    {
     "name": "stdout",
     "output_type": "stream",
     "text": [
      "['ltvDay1', 'ltvDay2', 'ltvDay3', 'ltvDay4', 'ltvDay5', 'ltvDay6', 'ltvDay7', 'ltvDay8']\n"
     ]
    }
   ],
   "source": [
    "print(features)"
   ]
  },
  {
   "cell_type": "code",
   "execution_count": 21,
   "metadata": {},
   "outputs": [],
   "source": [
    "X_train, X_valid = train_df[features], valid_df[features]\n",
    "y_train , y_valid = train_df['ltvDay30'],valid_df['ltvDay30']"
   ]
  },
  {
   "cell_type": "code",
   "execution_count": 22,
   "metadata": {},
   "outputs": [
    {
     "data": {
      "text/plain": [
       "((1830, 8), (789, 8))"
      ]
     },
     "execution_count": 22,
     "metadata": {},
     "output_type": "execute_result"
    }
   ],
   "source": [
    "X_train.shape , X_valid.shape"
   ]
  },
  {
   "cell_type": "code",
   "execution_count": 23,
   "metadata": {},
   "outputs": [
    {
     "data": {
      "text/plain": [
       "((1830,), (789,))"
      ]
     },
     "execution_count": 23,
     "metadata": {},
     "output_type": "execute_result"
    }
   ],
   "source": [
    "y_train.shape , y_valid.shape"
   ]
  },
  {
   "cell_type": "code",
   "execution_count": 24,
   "metadata": {},
   "outputs": [],
   "source": [
    "from sklearn.linear_model import Ridge\n",
    "ridge = Ridge(random_state=17 , normalize=True)\n"
   ]
  },
  {
   "cell_type": "code",
   "execution_count": 25,
   "metadata": {},
   "outputs": [
    {
     "data": {
      "text/plain": [
       "Ridge(alpha=1.0, copy_X=True, fit_intercept=True, max_iter=None, normalize=True,\n",
       "      random_state=17, solver='auto', tol=0.001)"
      ]
     },
     "execution_count": 25,
     "metadata": {},
     "output_type": "execute_result"
    }
   ],
   "source": [
    "ridge.fit(X_train , y_train)"
   ]
  },
  {
   "cell_type": "code",
   "execution_count": 26,
   "metadata": {},
   "outputs": [],
   "source": [
    "pred = ridge.predict(X_valid)"
   ]
  },
  {
   "cell_type": "code",
   "execution_count": 27,
   "metadata": {},
   "outputs": [
    {
     "data": {
      "text/plain": [
       "array([2.46012569e+07, 1.88095909e+07, 5.15246405e+07, 1.74192377e+07,\n",
       "       1.74192377e+07, 1.74192377e+07, 1.83540040e+07, 1.74192377e+07,\n",
       "       2.98688423e+07, 2.13055570e+07, 2.82183042e+07, 1.93880918e+07,\n",
       "       2.01327716e+07, 1.94874133e+07, 2.45009845e+07, 1.74192377e+07,\n",
       "       1.10584344e+08, 5.30464446e+07, 1.82380767e+07, 9.60043502e+07,\n",
       "       1.23813891e+08, 1.83540040e+07, 1.74192377e+07, 1.74192377e+07,\n",
       "       2.19752695e+07, 1.89900860e+07, 2.59927630e+07, 2.16839249e+07,\n",
       "       2.04227792e+07, 2.06147184e+07, 2.76042761e+08, 1.74192377e+07,\n",
       "       1.69016051e+08, 3.83800481e+07, 2.33725124e+08, 1.82380767e+07,\n",
       "       2.23634807e+07, 1.74192377e+07, 1.74192377e+07, 1.74192377e+07,\n",
       "       1.79863615e+07, 2.43725115e+07, 2.61423565e+07, 1.79968985e+07,\n",
       "       1.74192377e+07, 2.49778706e+07, 1.85613566e+08, 3.66041147e+07,\n",
       "       1.74192377e+07, 1.80176049e+07, 1.74192377e+07, 2.28218173e+07,\n",
       "       1.74192377e+07, 1.84106961e+07, 1.84198757e+07, 2.86696551e+07,\n",
       "       1.83540040e+07, 2.49840796e+07, 1.92887703e+07, 2.67973123e+07,\n",
       "       6.91371124e+07, 1.74192377e+07, 2.21127637e+07, 1.74192377e+07,\n",
       "       3.30199831e+08, 3.18335988e+07, 1.74192377e+07, 1.85193432e+08,\n",
       "       1.90569157e+07, 2.40532759e+08, 1.74192377e+07, 1.74192377e+07,\n",
       "       1.42923751e+08, 4.26730597e+07, 1.74192377e+07, 1.74192377e+07,\n",
       "       2.64234822e+07, 5.96176962e+07, 2.65416071e+08, 1.44784203e+08,\n",
       "       1.90615603e+07, 1.74192377e+07, 1.49662433e+08, 1.74192377e+07,\n",
       "       1.99951385e+07, 2.13275924e+07, 9.64828433e+07, 2.19441727e+07,\n",
       "       2.06473819e+07, 1.97229691e+07, 1.99159432e+07, 2.15510283e+07,\n",
       "       1.98405192e+07, 1.74192377e+07, 1.74192377e+07, 1.74192377e+07,\n",
       "       1.81534562e+07, 3.01796400e+07, 1.52932429e+08, 3.23189811e+07,\n",
       "       2.08460801e+07, 1.82700551e+07, 2.88309553e+07, 2.39486926e+07,\n",
       "       2.68084098e+07, 3.11448464e+07, 2.52179870e+07, 1.74192377e+07,\n",
       "       2.73204600e+07, 2.77008832e+07, 2.99691747e+07, 1.74192377e+07,\n",
       "       2.00884652e+07, 1.31868585e+08, 1.74192377e+07, 5.67545865e+08,\n",
       "       3.42875918e+07, 1.74192377e+07, 2.45494096e+07, 2.24365029e+07,\n",
       "       1.92887703e+07, 1.74192377e+07, 1.83540040e+07, 1.74192377e+07,\n",
       "       2.90277743e+07, 4.86994257e+07, 3.06599852e+07, 1.74192377e+07,\n",
       "       2.48566081e+07, 2.29142556e+07, 1.74192377e+07, 2.63682244e+07,\n",
       "       1.94282685e+07, 1.33947639e+08, 1.74192377e+07, 2.54675701e+07,\n",
       "       2.43421314e+07, 1.74192377e+07, 1.43874688e+08, 4.31917490e+07,\n",
       "       6.06840830e+07, 1.74192377e+07, 8.30433462e+08, 3.84184154e+07,\n",
       "       1.80028519e+07, 1.79863615e+07, 1.74192377e+07, 4.25154853e+08,\n",
       "       2.44930969e+07, 3.27808742e+07, 1.92887703e+07, 1.82084757e+07,\n",
       "       1.85534853e+07, 1.74192377e+07, 2.72692818e+07, 1.92887703e+07,\n",
       "       4.60974701e+07, 1.74192377e+07, 5.54542033e+07, 2.20121514e+07,\n",
       "       1.74192377e+07, 1.97505214e+08, 1.74192377e+07, 1.74192377e+07,\n",
       "       1.74192377e+07, 2.13499670e+07, 2.25344053e+07, 2.12345400e+08,\n",
       "       1.74192377e+07, 1.84533255e+07, 1.99951385e+07, 2.98469712e+07,\n",
       "       1.74192377e+07, 1.07585053e+08, 2.43380649e+07, 1.83540040e+07,\n",
       "       1.74192377e+07, 1.81144143e+07, 2.24060278e+07, 2.79213914e+07,\n",
       "       2.60677292e+07, 1.74192377e+07, 5.82960884e+07, 1.74192377e+07,\n",
       "       2.74944114e+07, 1.95978012e+07, 1.74192377e+07, 1.84106961e+07,\n",
       "       5.16325791e+07, 1.81420023e+07, 2.84120202e+07, 1.74192377e+07,\n",
       "       2.42844316e+07, 6.89929985e+07, 1.74192377e+07, 1.84533255e+07,\n",
       "       2.10330717e+07, 2.08460801e+07, 2.46167078e+07, 2.19441727e+07,\n",
       "       2.66455883e+07, 2.55264109e+07, 3.42287496e+07, 2.94415786e+07,\n",
       "       1.96267308e+07, 3.48754644e+07, 1.81599186e+08, 1.24952502e+08,\n",
       "       1.74192377e+07, 1.74192377e+07, 1.74192377e+07, 2.63565020e+07,\n",
       "       1.74192377e+07, 1.74192377e+07, 1.80176049e+07, 2.36250471e+07,\n",
       "       1.83540040e+07, 2.49894072e+07, 1.75748785e+07, 1.30833081e+08,\n",
       "       1.74192377e+07, 1.91785208e+07, 1.74192377e+07, 1.85534853e+07,\n",
       "       7.77969312e+07, 1.74192377e+07, 2.01327716e+07, 1.74192377e+07,\n",
       "       1.74192377e+07, 3.10169289e+07, 1.74192377e+07, 1.74192377e+07,\n",
       "       1.78542726e+07, 2.39626107e+07, 2.82057273e+07, 1.74192377e+07,\n",
       "       2.29937624e+07, 1.74192377e+07, 1.74192377e+07, 1.74192377e+07,\n",
       "       1.86815381e+07, 1.74192377e+07, 1.94874133e+07, 2.42844316e+07,\n",
       "       2.42844316e+07, 1.85534853e+07, 1.81144143e+07, 7.06516115e+07,\n",
       "       1.74192377e+07, 2.43774524e+07, 1.74192377e+07, 7.07663404e+07,\n",
       "       1.74192377e+07, 2.26990068e+07, 1.74192377e+07, 1.74192377e+07,\n",
       "       1.74192377e+07, 4.38290158e+07, 1.74192377e+07, 2.11242252e+07,\n",
       "       1.74192377e+07, 1.88095909e+07, 1.35675696e+08, 1.84066786e+07,\n",
       "       4.60704648e+08, 2.77112739e+07, 1.74192377e+07, 1.45089940e+08,\n",
       "       2.73137081e+07, 1.74192377e+07, 2.23081566e+07, 3.98431955e+07,\n",
       "       1.92574248e+07, 1.74192377e+07, 1.74192377e+07, 1.89211278e+07,\n",
       "       1.89663406e+07, 1.90522190e+07, 2.32620042e+07, 2.17502489e+07,\n",
       "       1.74192377e+07, 3.22954519e+08, 1.82380767e+07, 2.87271218e+07,\n",
       "       1.81144143e+07, 1.74192377e+07, 1.74192377e+07, 2.40948760e+07,\n",
       "       1.74192377e+07, 1.01133516e+08, 1.75748785e+07, 1.12144101e+08,\n",
       "       1.74192377e+07, 1.74192377e+07, 1.74192377e+07, 1.74192377e+07,\n",
       "       1.94874133e+07, 7.66101984e+07, 1.84894192e+07, 2.39810055e+07,\n",
       "       1.99440535e+07, 1.98019689e+07, 9.84008215e+07, 2.12856273e+07,\n",
       "       1.74192377e+07, 2.35730978e+08, 1.74192377e+07, 2.46583288e+07,\n",
       "       1.74192377e+07, 1.97229691e+07, 2.00509420e+08, 2.01862995e+07,\n",
       "       1.84525195e+07, 1.84533255e+07, 2.13153943e+08, 2.02900929e+07,\n",
       "       1.74192377e+07, 2.08616124e+07, 1.74192377e+07, 1.92887703e+07,\n",
       "       1.74192377e+07, 1.74192377e+07, 1.82893075e+07, 2.23515453e+07,\n",
       "       1.84533255e+07, 1.94874133e+07, 1.74192377e+07, 1.74192377e+07,\n",
       "       2.22862243e+07, 1.74192377e+07, 1.74192377e+07, 3.42294504e+07,\n",
       "       2.02948715e+07, 2.08460801e+07, 2.23743828e+07, 1.84533255e+07,\n",
       "       2.88302658e+08, 3.28758575e+07, 1.82380767e+07, 2.89329922e+07,\n",
       "       1.79863615e+07, 2.17558871e+07, 4.16392459e+08, 1.74192377e+07,\n",
       "       2.30547298e+07, 3.10666020e+07, 2.35373157e+07, 2.44045509e+07,\n",
       "       2.10731209e+07, 2.08638221e+07, 1.74192377e+07, 2.26098033e+07,\n",
       "       1.74192377e+07, 1.90569157e+07, 1.74192377e+07, 1.74192377e+07,\n",
       "       2.28149341e+07, 4.14822300e+07, 1.97229691e+07, 9.18954954e+07,\n",
       "       1.83540040e+07, 1.74192377e+07, 1.74192377e+07, 2.05617348e+07,\n",
       "       2.73040807e+07, 4.51131519e+07, 1.90491544e+07, 7.60075337e+07,\n",
       "       1.92721645e+07, 1.83540040e+07, 7.01623168e+07, 3.12396478e+07,\n",
       "       1.74192377e+07, 3.28812741e+07, 1.74192377e+07, 1.84533255e+07,\n",
       "       2.98308565e+07, 1.79923288e+07, 2.08684607e+07, 2.23278264e+07,\n",
       "       5.28844578e+07, 3.12274381e+07, 3.53430824e+07, 8.28761088e+07,\n",
       "       2.79505138e+07, 1.94874133e+07, 1.83540040e+07, 1.90738619e+07,\n",
       "       9.05015399e+07, 2.95561772e+07, 1.84533255e+07, 1.74192377e+07,\n",
       "       1.74192377e+07, 1.74192377e+07, 2.86072555e+07, 2.12945978e+07,\n",
       "       1.93880918e+07, 2.07449704e+07, 1.05929086e+08, 1.74192377e+07,\n",
       "       1.74192377e+07, 1.74192377e+07, 1.84525195e+07, 4.80355115e+07,\n",
       "       1.74192377e+07, 2.79205635e+07, 2.36250471e+07, 1.06828917e+08,\n",
       "       1.89682942e+07, 4.34307886e+07, 1.82380767e+07, 2.11277072e+07,\n",
       "       2.24857946e+07, 1.84527660e+07, 1.74192377e+07, 1.85534853e+07,\n",
       "       1.91163132e+07, 1.74192377e+07, 2.13357795e+07, 2.59535608e+07,\n",
       "       1.84135979e+07, 2.46902044e+07, 1.74192377e+07, 1.74192377e+07,\n",
       "       1.83540040e+07, 1.74589463e+08, 2.50617152e+08, 2.29142556e+07,\n",
       "       1.74192377e+07, 5.68120052e+07, 1.83540040e+07, 1.32868653e+08,\n",
       "       2.05471246e+07, 2.33717969e+07, 1.80200850e+07, 1.74192377e+07,\n",
       "       4.32312770e+07, 2.57860634e+07, 2.01399604e+07, 1.74192377e+07,\n",
       "       1.77184213e+07, 2.03965764e+07, 1.83540040e+07, 1.74192377e+07,\n",
       "       1.74192377e+07, 1.38390240e+08, 1.74192377e+07, 3.12658297e+07,\n",
       "       1.74192377e+07, 2.52986499e+07, 1.74192377e+07, 1.79863615e+07,\n",
       "       1.74192377e+07, 2.88996315e+07, 2.16842547e+07, 2.97932110e+07,\n",
       "       2.36836646e+07, 1.84533255e+07, 1.10050414e+08, 1.84533255e+07,\n",
       "       1.82380767e+07, 1.84533255e+07, 2.88682981e+07, 2.67936080e+07,\n",
       "       1.74192377e+07, 2.11148603e+08, 4.94017212e+08, 5.02396487e+07,\n",
       "       1.74192377e+07, 1.84906755e+07, 2.49493812e+07, 2.33103203e+07,\n",
       "       1.82380767e+07, 1.74192377e+07, 2.57040744e+07, 1.74192377e+07,\n",
       "       1.74192377e+07, 1.90569157e+07, 1.74192377e+07, 1.95611251e+07,\n",
       "       2.14152663e+07, 8.12560302e+07, 1.83164105e+07, 1.29298450e+08,\n",
       "       1.74192377e+07, 3.36989419e+07, 3.62685155e+08, 3.35935391e+07,\n",
       "       5.95009152e+07, 2.36705245e+07, 1.74192377e+07, 2.18410139e+08,\n",
       "       1.57277290e+08, 2.89324707e+07, 3.18231950e+07, 2.00095903e+08,\n",
       "       1.84612039e+07, 8.60406098e+07, 1.74192377e+07, 1.74192377e+07,\n",
       "       1.91728430e+07, 2.49524739e+08, 2.14517068e+07, 1.06777046e+08,\n",
       "       1.74192377e+07, 1.83540040e+07, 1.98469021e+07, 3.04874681e+07,\n",
       "       1.74192377e+07, 2.72744078e+07, 2.32739979e+07, 1.94054843e+07,\n",
       "       1.82380767e+07, 1.82380767e+07, 1.92887703e+07, 2.76265729e+07,\n",
       "       2.39896664e+07, 1.74192377e+07, 1.74192377e+07, 2.06577354e+07,\n",
       "       1.74192377e+07, 1.81144143e+07, 2.34353226e+07, 1.74192377e+07,\n",
       "       3.17160626e+07, 1.74192377e+07, 1.51633815e+08, 1.85096448e+07,\n",
       "       2.25010388e+07, 1.74192377e+07, 1.84533255e+07, 2.29008807e+07,\n",
       "       2.15917512e+07, 1.77184213e+07, 2.00226196e+07, 2.28554189e+07,\n",
       "       1.74192377e+07, 2.75569364e+07, 1.74192377e+07, 1.86815381e+07,\n",
       "       3.08014520e+07, 3.13488180e+07, 1.82380767e+07, 1.74192377e+07,\n",
       "       1.74192377e+07, 2.20259505e+08, 2.42413817e+07, 2.59568038e+07,\n",
       "       2.18134493e+07, 1.89332533e+07, 1.94874133e+07, 2.42844316e+07,\n",
       "       2.19669377e+07, 1.74192377e+07, 2.76575162e+07, 1.94874133e+07,\n",
       "       1.74192377e+07, 1.74192377e+07, 2.43161598e+07, 1.90421714e+07,\n",
       "       1.74191984e+08, 2.04768464e+07, 1.74192377e+07, 1.74192377e+07,\n",
       "       1.74192377e+07, 1.82380767e+07, 3.15454828e+07, 2.23823513e+07,\n",
       "       1.74192377e+07, 2.71885050e+08, 1.01181063e+08, 1.79163245e+07,\n",
       "       1.74192377e+07, 2.23864731e+07, 1.75748785e+07, 1.92887703e+07,\n",
       "       1.74192377e+07, 2.70518894e+07, 1.88936951e+07, 1.74192377e+07,\n",
       "       1.74192377e+07, 1.40401014e+08, 1.74192377e+07, 1.82380767e+07,\n",
       "       1.74192377e+07, 1.74192377e+07, 1.97809651e+07, 2.59999506e+07,\n",
       "       2.48888475e+07, 2.00400632e+07, 1.16957035e+08, 1.80335291e+08,\n",
       "       3.79533593e+07, 2.09516106e+07, 2.05372948e+07, 1.74192377e+07,\n",
       "       2.03670773e+07, 2.20474745e+07, 1.74192377e+07, 2.39116959e+07,\n",
       "       1.74192377e+07, 1.81144143e+07, 1.74192377e+07, 2.95666209e+07,\n",
       "       1.74192377e+07, 1.74192377e+07, 1.92295351e+07, 1.74192377e+07,\n",
       "       1.74192377e+07, 2.32304744e+07, 1.74192377e+07, 1.93880918e+07,\n",
       "       1.74192377e+07, 2.28852369e+07, 1.74192377e+07, 1.74192377e+07,\n",
       "       3.10094480e+07, 1.74192377e+07, 2.54181754e+07, 2.53189960e+07,\n",
       "       1.83540040e+07, 3.56461276e+07, 1.78542726e+07, 1.60796656e+08,\n",
       "       1.74192377e+07, 1.74192377e+07, 1.83540040e+07, 1.74192377e+07,\n",
       "       1.74192377e+07, 1.93880918e+07, 1.74192377e+07, 1.74192377e+07,\n",
       "       1.74192377e+07, 1.90569157e+07, 2.47407985e+07, 3.25365035e+07,\n",
       "       2.16918232e+07, 1.82706280e+07, 1.74192377e+07, 2.07321069e+07,\n",
       "       1.74192377e+07, 1.83540040e+07, 1.82893075e+07, 1.83540040e+07,\n",
       "       4.02443887e+07, 1.74192377e+07, 2.48975387e+07, 5.36835460e+07,\n",
       "       1.74192377e+07, 4.71010130e+07, 1.74192377e+07, 2.23353232e+07,\n",
       "       2.45661258e+07, 2.24537182e+07, 3.22621953e+07, 2.29092699e+07,\n",
       "       2.09822543e+07, 4.50093697e+07, 1.74192377e+07, 2.11843095e+07,\n",
       "       1.88095909e+07, 2.11133222e+07, 2.72420295e+07, 1.92656521e+07,\n",
       "       1.90569157e+07, 1.94874133e+07, 2.28564292e+07, 1.94874133e+07,\n",
       "       1.74192377e+07, 4.37923615e+07, 1.74192377e+07, 2.27619079e+07,\n",
       "       1.74192377e+07, 1.84533255e+07, 3.90095842e+07, 2.33728863e+08,\n",
       "       6.91403041e+07, 1.74192377e+07, 1.74192377e+07, 1.82893075e+07,\n",
       "       1.89811769e+07, 1.83540040e+07, 1.19788236e+08, 5.28705085e+07,\n",
       "       1.74192377e+07, 1.74192377e+07, 1.74192377e+07, 1.95730889e+07,\n",
       "       2.09516106e+07, 1.74192377e+07, 4.05882294e+08, 3.28771262e+08,\n",
       "       1.82380767e+07, 1.95726905e+07, 5.25885604e+07, 4.38516983e+07,\n",
       "       1.83594202e+07, 2.24736208e+07, 4.23216111e+07, 1.75748785e+07,\n",
       "       1.74192377e+07, 1.91924051e+07, 1.77384822e+07, 1.81144143e+07,\n",
       "       2.46246470e+07, 1.74192377e+07, 1.74192377e+07, 3.33061022e+07,\n",
       "       1.74192377e+07, 2.52116474e+07, 1.93711568e+07, 4.17632670e+07,\n",
       "       2.04181457e+07, 2.11774558e+07, 2.36250471e+07, 4.27775702e+07,\n",
       "       1.87943872e+07, 5.61484738e+07, 1.79863615e+07, 1.83540040e+07,\n",
       "       1.74192377e+07, 1.84533255e+07, 7.43552111e+07, 1.74192377e+07,\n",
       "       2.59456125e+07, 1.94481904e+07, 5.32279504e+07, 1.92986176e+07,\n",
       "       1.74192377e+07, 2.60996970e+07, 1.92887703e+07, 1.86731116e+07,\n",
       "       1.83540040e+07, 2.69107445e+07, 2.19042245e+07, 1.96175066e+07,\n",
       "       2.14053540e+07, 1.74192377e+07, 1.74192377e+07, 9.99057384e+07,\n",
       "       2.07848344e+07, 1.84213964e+07, 1.86356779e+07, 1.92986176e+07,\n",
       "       1.84533255e+07, 3.27634222e+07, 1.74192377e+07, 3.60285925e+07,\n",
       "       1.74192377e+07, 1.74192377e+07, 7.64401709e+07, 1.74192377e+07,\n",
       "       1.74192377e+07, 6.77887350e+08, 1.74192377e+07, 1.74192377e+07,\n",
       "       4.31691417e+07, 1.74192377e+07, 6.79334953e+07, 1.74192377e+07,\n",
       "       2.03795501e+07, 7.29102640e+07, 1.74192377e+07, 2.89567186e+08,\n",
       "       1.74192377e+07, 2.74881672e+07, 1.74192377e+07, 5.54182593e+07,\n",
       "       1.83540040e+07, 2.54841759e+07, 2.28820298e+07, 2.81977097e+07,\n",
       "       2.33677862e+07, 1.74192377e+07, 1.80906532e+07, 1.74192377e+07,\n",
       "       3.32666580e+07, 1.12397034e+08, 1.74192377e+07, 2.01327716e+07,\n",
       "       1.81144143e+07, 1.26931012e+08, 1.91485021e+07, 2.18801678e+07,\n",
       "       2.08460801e+07, 1.39663741e+08, 1.74192377e+07, 2.38497633e+07,\n",
       "       1.74192377e+07])"
      ]
     },
     "execution_count": 27,
     "metadata": {},
     "output_type": "execute_result"
    }
   ],
   "source": [
    "pred\n"
   ]
  },
  {
   "cell_type": "code",
   "execution_count": 28,
   "metadata": {},
   "outputs": [],
   "source": [
    "prediction = pd.DataFrame(pred)"
   ]
  },
  {
   "cell_type": "code",
   "execution_count": 29,
   "metadata": {},
   "outputs": [
    {
     "data": {
      "text/html": [
       "<div>\n",
       "<style scoped>\n",
       "    .dataframe tbody tr th:only-of-type {\n",
       "        vertical-align: middle;\n",
       "    }\n",
       "\n",
       "    .dataframe tbody tr th {\n",
       "        vertical-align: top;\n",
       "    }\n",
       "\n",
       "    .dataframe thead th {\n",
       "        text-align: right;\n",
       "    }\n",
       "</style>\n",
       "<table border=\"1\" class=\"dataframe\">\n",
       "  <thead>\n",
       "    <tr style=\"text-align: right;\">\n",
       "      <th></th>\n",
       "      <th>0</th>\n",
       "    </tr>\n",
       "  </thead>\n",
       "  <tbody>\n",
       "    <tr>\n",
       "      <td>0</td>\n",
       "      <td>2.460126e+07</td>\n",
       "    </tr>\n",
       "    <tr>\n",
       "      <td>1</td>\n",
       "      <td>1.880959e+07</td>\n",
       "    </tr>\n",
       "    <tr>\n",
       "      <td>2</td>\n",
       "      <td>5.152464e+07</td>\n",
       "    </tr>\n",
       "    <tr>\n",
       "      <td>3</td>\n",
       "      <td>1.741924e+07</td>\n",
       "    </tr>\n",
       "    <tr>\n",
       "      <td>4</td>\n",
       "      <td>1.741924e+07</td>\n",
       "    </tr>\n",
       "    <tr>\n",
       "      <td>...</td>\n",
       "      <td>...</td>\n",
       "    </tr>\n",
       "    <tr>\n",
       "      <td>784</td>\n",
       "      <td>2.084608e+07</td>\n",
       "    </tr>\n",
       "    <tr>\n",
       "      <td>785</td>\n",
       "      <td>1.396637e+08</td>\n",
       "    </tr>\n",
       "    <tr>\n",
       "      <td>786</td>\n",
       "      <td>1.741924e+07</td>\n",
       "    </tr>\n",
       "    <tr>\n",
       "      <td>787</td>\n",
       "      <td>2.384976e+07</td>\n",
       "    </tr>\n",
       "    <tr>\n",
       "      <td>788</td>\n",
       "      <td>1.741924e+07</td>\n",
       "    </tr>\n",
       "  </tbody>\n",
       "</table>\n",
       "<p>789 rows × 1 columns</p>\n",
       "</div>"
      ],
      "text/plain": [
       "                0\n",
       "0    2.460126e+07\n",
       "1    1.880959e+07\n",
       "2    5.152464e+07\n",
       "3    1.741924e+07\n",
       "4    1.741924e+07\n",
       "..            ...\n",
       "784  2.084608e+07\n",
       "785  1.396637e+08\n",
       "786  1.741924e+07\n",
       "787  2.384976e+07\n",
       "788  1.741924e+07\n",
       "\n",
       "[789 rows x 1 columns]"
      ]
     },
     "execution_count": 29,
     "metadata": {},
     "output_type": "execute_result"
    }
   ],
   "source": [
    "prediction "
   ]
  },
  {
   "cell_type": "code",
   "execution_count": 30,
   "metadata": {},
   "outputs": [],
   "source": [
    "output = pd.concat([X_valid,prediction , y_valid],axis = 1)"
   ]
  },
  {
   "cell_type": "code",
   "execution_count": 31,
   "metadata": {},
   "outputs": [
    {
     "ename": "FileCreateError",
     "evalue": "[Errno 13] Permission denied: 'E:/Sonu/MLcourse.ai/App_Payment_Linear_regression/output.xlsx'",
     "output_type": "error",
     "traceback": [
      "\u001b[1;31m---------------------------------------------------------------------------\u001b[0m",
      "\u001b[1;31mPermissionError\u001b[0m                           Traceback (most recent call last)",
      "\u001b[1;32m~\\Anaconda3\\lib\\site-packages\\xlsxwriter\\workbook.py\u001b[0m in \u001b[0;36mclose\u001b[1;34m(self)\u001b[0m\n\u001b[0;32m    310\u001b[0m             \u001b[1;32mtry\u001b[0m\u001b[1;33m:\u001b[0m\u001b[1;33m\u001b[0m\u001b[1;33m\u001b[0m\u001b[0m\n\u001b[1;32m--> 311\u001b[1;33m                 \u001b[0mself\u001b[0m\u001b[1;33m.\u001b[0m\u001b[0m_store_workbook\u001b[0m\u001b[1;33m(\u001b[0m\u001b[1;33m)\u001b[0m\u001b[1;33m\u001b[0m\u001b[1;33m\u001b[0m\u001b[0m\n\u001b[0m\u001b[0;32m    312\u001b[0m             \u001b[1;32mexcept\u001b[0m \u001b[0mIOError\u001b[0m \u001b[1;32mas\u001b[0m \u001b[0me\u001b[0m\u001b[1;33m:\u001b[0m\u001b[1;33m\u001b[0m\u001b[1;33m\u001b[0m\u001b[0m\n",
      "\u001b[1;32m~\\Anaconda3\\lib\\site-packages\\xlsxwriter\\workbook.py\u001b[0m in \u001b[0;36m_store_workbook\u001b[1;34m(self)\u001b[0m\n\u001b[0;32m    626\u001b[0m         \u001b[1;32mexcept\u001b[0m \u001b[0mIOError\u001b[0m \u001b[1;32mas\u001b[0m \u001b[0me\u001b[0m\u001b[1;33m:\u001b[0m\u001b[1;33m\u001b[0m\u001b[1;33m\u001b[0m\u001b[0m\n\u001b[1;32m--> 627\u001b[1;33m             \u001b[1;32mraise\u001b[0m \u001b[0me\u001b[0m\u001b[1;33m\u001b[0m\u001b[1;33m\u001b[0m\u001b[0m\n\u001b[0m\u001b[0;32m    628\u001b[0m \u001b[1;33m\u001b[0m\u001b[0m\n",
      "\u001b[1;32m~\\Anaconda3\\lib\\site-packages\\xlsxwriter\\workbook.py\u001b[0m in \u001b[0;36m_store_workbook\u001b[1;34m(self)\u001b[0m\n\u001b[0;32m    624\u001b[0m             xlsx_file = ZipFile(self.filename, \"w\", compression=ZIP_DEFLATED,\n\u001b[1;32m--> 625\u001b[1;33m                                 allowZip64=self.allow_zip64)\n\u001b[0m\u001b[0;32m    626\u001b[0m         \u001b[1;32mexcept\u001b[0m \u001b[0mIOError\u001b[0m \u001b[1;32mas\u001b[0m \u001b[0me\u001b[0m\u001b[1;33m:\u001b[0m\u001b[1;33m\u001b[0m\u001b[1;33m\u001b[0m\u001b[0m\n",
      "\u001b[1;32m~\\Anaconda3\\lib\\zipfile.py\u001b[0m in \u001b[0;36m__init__\u001b[1;34m(self, file, mode, compression, allowZip64, compresslevel)\u001b[0m\n\u001b[0;32m   1206\u001b[0m                 \u001b[1;32mtry\u001b[0m\u001b[1;33m:\u001b[0m\u001b[1;33m\u001b[0m\u001b[1;33m\u001b[0m\u001b[0m\n\u001b[1;32m-> 1207\u001b[1;33m                     \u001b[0mself\u001b[0m\u001b[1;33m.\u001b[0m\u001b[0mfp\u001b[0m \u001b[1;33m=\u001b[0m \u001b[0mio\u001b[0m\u001b[1;33m.\u001b[0m\u001b[0mopen\u001b[0m\u001b[1;33m(\u001b[0m\u001b[0mfile\u001b[0m\u001b[1;33m,\u001b[0m \u001b[0mfilemode\u001b[0m\u001b[1;33m)\u001b[0m\u001b[1;33m\u001b[0m\u001b[1;33m\u001b[0m\u001b[0m\n\u001b[0m\u001b[0;32m   1208\u001b[0m                 \u001b[1;32mexcept\u001b[0m \u001b[0mOSError\u001b[0m\u001b[1;33m:\u001b[0m\u001b[1;33m\u001b[0m\u001b[1;33m\u001b[0m\u001b[0m\n",
      "\u001b[1;31mPermissionError\u001b[0m: [Errno 13] Permission denied: 'E:/Sonu/MLcourse.ai/App_Payment_Linear_regression/output.xlsx'",
      "\nDuring handling of the above exception, another exception occurred:\n",
      "\u001b[1;31mFileCreateError\u001b[0m                           Traceback (most recent call last)",
      "\u001b[1;32m<ipython-input-31-90ec3b39b2f3>\u001b[0m in \u001b[0;36m<module>\u001b[1;34m\u001b[0m\n\u001b[1;32m----> 1\u001b[1;33m \u001b[0moutput\u001b[0m\u001b[1;33m.\u001b[0m\u001b[0mto_excel\u001b[0m\u001b[1;33m(\u001b[0m\u001b[1;34m'E:/Sonu/MLcourse.ai/App_Payment_Linear_regression/output.xlsx'\u001b[0m\u001b[1;33m)\u001b[0m\u001b[1;33m\u001b[0m\u001b[1;33m\u001b[0m\u001b[0m\n\u001b[0m",
      "\u001b[1;32m~\\Anaconda3\\lib\\site-packages\\pandas\\core\\generic.py\u001b[0m in \u001b[0;36mto_excel\u001b[1;34m(self, excel_writer, sheet_name, na_rep, float_format, columns, header, index, index_label, startrow, startcol, engine, merge_cells, encoding, inf_rep, verbose, freeze_panes)\u001b[0m\n\u001b[0;32m   2254\u001b[0m             \u001b[0mstartcol\u001b[0m\u001b[1;33m=\u001b[0m\u001b[0mstartcol\u001b[0m\u001b[1;33m,\u001b[0m\u001b[1;33m\u001b[0m\u001b[1;33m\u001b[0m\u001b[0m\n\u001b[0;32m   2255\u001b[0m             \u001b[0mfreeze_panes\u001b[0m\u001b[1;33m=\u001b[0m\u001b[0mfreeze_panes\u001b[0m\u001b[1;33m,\u001b[0m\u001b[1;33m\u001b[0m\u001b[1;33m\u001b[0m\u001b[0m\n\u001b[1;32m-> 2256\u001b[1;33m             \u001b[0mengine\u001b[0m\u001b[1;33m=\u001b[0m\u001b[0mengine\u001b[0m\u001b[1;33m,\u001b[0m\u001b[1;33m\u001b[0m\u001b[1;33m\u001b[0m\u001b[0m\n\u001b[0m\u001b[0;32m   2257\u001b[0m         )\n\u001b[0;32m   2258\u001b[0m \u001b[1;33m\u001b[0m\u001b[0m\n",
      "\u001b[1;32m~\\Anaconda3\\lib\\site-packages\\pandas\\io\\formats\\excel.py\u001b[0m in \u001b[0;36mwrite\u001b[1;34m(self, writer, sheet_name, startrow, startcol, freeze_panes, engine)\u001b[0m\n\u001b[0;32m    740\u001b[0m         )\n\u001b[0;32m    741\u001b[0m         \u001b[1;32mif\u001b[0m \u001b[0mneed_save\u001b[0m\u001b[1;33m:\u001b[0m\u001b[1;33m\u001b[0m\u001b[1;33m\u001b[0m\u001b[0m\n\u001b[1;32m--> 742\u001b[1;33m             \u001b[0mwriter\u001b[0m\u001b[1;33m.\u001b[0m\u001b[0msave\u001b[0m\u001b[1;33m(\u001b[0m\u001b[1;33m)\u001b[0m\u001b[1;33m\u001b[0m\u001b[1;33m\u001b[0m\u001b[0m\n\u001b[0m",
      "\u001b[1;32m~\\Anaconda3\\lib\\site-packages\\pandas\\io\\excel\\_xlsxwriter.py\u001b[0m in \u001b[0;36msave\u001b[1;34m(self)\u001b[0m\n\u001b[0;32m    193\u001b[0m         \"\"\"\n\u001b[0;32m    194\u001b[0m \u001b[1;33m\u001b[0m\u001b[0m\n\u001b[1;32m--> 195\u001b[1;33m         \u001b[1;32mreturn\u001b[0m \u001b[0mself\u001b[0m\u001b[1;33m.\u001b[0m\u001b[0mbook\u001b[0m\u001b[1;33m.\u001b[0m\u001b[0mclose\u001b[0m\u001b[1;33m(\u001b[0m\u001b[1;33m)\u001b[0m\u001b[1;33m\u001b[0m\u001b[1;33m\u001b[0m\u001b[0m\n\u001b[0m\u001b[0;32m    196\u001b[0m \u001b[1;33m\u001b[0m\u001b[0m\n\u001b[0;32m    197\u001b[0m     def write_cells(\n",
      "\u001b[1;32m~\\Anaconda3\\lib\\site-packages\\xlsxwriter\\workbook.py\u001b[0m in \u001b[0;36mclose\u001b[1;34m(self)\u001b[0m\n\u001b[0;32m    311\u001b[0m                 \u001b[0mself\u001b[0m\u001b[1;33m.\u001b[0m\u001b[0m_store_workbook\u001b[0m\u001b[1;33m(\u001b[0m\u001b[1;33m)\u001b[0m\u001b[1;33m\u001b[0m\u001b[1;33m\u001b[0m\u001b[0m\n\u001b[0;32m    312\u001b[0m             \u001b[1;32mexcept\u001b[0m \u001b[0mIOError\u001b[0m \u001b[1;32mas\u001b[0m \u001b[0me\u001b[0m\u001b[1;33m:\u001b[0m\u001b[1;33m\u001b[0m\u001b[1;33m\u001b[0m\u001b[0m\n\u001b[1;32m--> 313\u001b[1;33m                 \u001b[1;32mraise\u001b[0m \u001b[0mFileCreateError\u001b[0m\u001b[1;33m(\u001b[0m\u001b[0me\u001b[0m\u001b[1;33m)\u001b[0m\u001b[1;33m\u001b[0m\u001b[1;33m\u001b[0m\u001b[0m\n\u001b[0m\u001b[0;32m    314\u001b[0m             \u001b[1;32mexcept\u001b[0m \u001b[0mLargeZipFile\u001b[0m \u001b[1;32mas\u001b[0m \u001b[0me\u001b[0m\u001b[1;33m:\u001b[0m\u001b[1;33m\u001b[0m\u001b[1;33m\u001b[0m\u001b[0m\n\u001b[0;32m    315\u001b[0m                 raise FileSizeError(\"Filesize would require ZIP64 extensions. \"\n",
      "\u001b[1;31mFileCreateError\u001b[0m: [Errno 13] Permission denied: 'E:/Sonu/MLcourse.ai/App_Payment_Linear_regression/output.xlsx'"
     ]
    }
   ],
   "source": [
    "output.to_excel('E:/Sonu/MLcourse.ai/App_Payment_Linear_regression/output.xlsx')"
   ]
  },
  {
   "cell_type": "code",
   "execution_count": 33,
   "metadata": {},
   "outputs": [
    {
     "data": {
      "text/plain": [
       "<matplotlib.legend.Legend at 0x1bf84e3d148>"
      ]
     },
     "execution_count": 33,
     "metadata": {},
     "output_type": "execute_result"
    },
    {
     "data": {
      "image/png": "[encoded data removed]",
      "text/plain": [
       "<Figure size 432x288 with 1 Axes>"
      ]
     },
     "metadata": {
      "needs_background": "light"
     },
     "output_type": "display_data"
    }
   ],
   "source": [
    "plt.hist(np.log1p(pred),alpha=0.5,label='pred')\n",
    "plt.hist(np.log1p(y_valid),alpha=0.5,label='real')\n",
    "plt.legend()"
   ]
  },
  {
   "cell_type": "code",
   "execution_count": null,
   "metadata": {},
   "outputs": [],
   "source": []
  },
  {
   "cell_type": "code",
   "execution_count": 34,
   "metadata": {},
   "outputs": [
    {
     "data": {
      "text/plain": [
       "(32902730368.369164, 31342917428)"
      ]
     },
     "execution_count": 34,
     "metadata": {},
     "output_type": "execute_result"
    }
   ],
   "source": [
    "pred.sum(),y_valid.sum()"
   ]
  },
  {
   "cell_type": "code",
   "execution_count": 35,
   "metadata": {},
   "outputs": [],
   "source": [
    "error = (pred.sum()/y_valid.sum()) - 1"
   ]
  },
  {
   "cell_type": "code",
   "execution_count": 36,
   "metadata": {},
   "outputs": [
    {
     "data": {
      "text/plain": [
       "0.04976604184828415"
      ]
     },
     "execution_count": 36,
     "metadata": {},
     "output_type": "execute_result"
    }
   ],
   "source": [
    "error\n"
   ]
  },
  {
   "cell_type": "code",
   "execution_count": 37,
   "metadata": {},
   "outputs": [
    {
     "data": {
      "text/plain": [
       "4.98"
      ]
     },
     "execution_count": 37,
     "metadata": {},
     "output_type": "execute_result"
    }
   ],
   "source": [
    "round(100*error,2)"
   ]
  },
  {
   "cell_type": "code",
   "execution_count": 38,
   "metadata": {},
   "outputs": [
    {
     "data": {
      "text/plain": [
       "(array([0.09289329, 0.1084243 , 0.11565885, 0.11976504, 0.12353993,\n",
       "        0.12705883, 0.13425255, 0.14556749]), 17419237.74334901)"
      ]
     },
     "execution_count": 38,
     "metadata": {},
     "output_type": "execute_result"
    }
   ],
   "source": [
    "ridge.coef_, ridge.intercept_"
   ]
  },
  {
   "cell_type": "code",
   "execution_count": 39,
   "metadata": {},
   "outputs": [
    {
     "data": {
      "text/plain": [
       "0    2018-02-18\n",
       "1    2018-04-20\n",
       "2    2017-09-28\n",
       "3    2017-12-11\n",
       "4    2018-02-06\n",
       "Name: dt, dtype: object"
      ]
     },
     "execution_count": 39,
     "metadata": {},
     "output_type": "execute_result"
    }
   ],
   "source": [
    "df.dt.head()"
   ]
  },
  {
   "cell_type": "code",
   "execution_count": 40,
   "metadata": {},
   "outputs": [],
   "source": [
    "df.dt = pd.to_datetime(df.dt)"
   ]
  },
  {
   "cell_type": "code",
   "execution_count": 41,
   "metadata": {},
   "outputs": [],
   "source": [
    "from datetime import timedelta , datetime"
   ]
  },
  {
   "cell_type": "code",
   "execution_count": 42,
   "metadata": {},
   "outputs": [
    {
     "data": {
      "text/plain": [
       "Timestamp('2018-02-18 00:00:00')"
      ]
     },
     "execution_count": 42,
     "metadata": {},
     "output_type": "execute_result"
    }
   ],
   "source": [
    "df.dt.loc[0]"
   ]
  },
  {
   "cell_type": "code",
   "execution_count": 43,
   "metadata": {},
   "outputs": [
    {
     "data": {
      "text/plain": [
       "Timestamp('2018-02-19 00:00:00')"
      ]
     },
     "execution_count": 43,
     "metadata": {},
     "output_type": "execute_result"
    }
   ],
   "source": [
    "df.dt.loc[0] + timedelta(days=1)"
   ]
  },
  {
   "cell_type": "code",
   "execution_count": 44,
   "metadata": {},
   "outputs": [],
   "source": [
    "step = 30 "
   ]
  },
  {
   "cell_type": "code",
   "execution_count": 45,
   "metadata": {},
   "outputs": [],
   "source": [
    "MIN_TRAIN_SIZE = 1000"
   ]
  },
  {
   "cell_type": "code",
   "execution_count": 46,
   "metadata": {},
   "outputs": [],
   "source": [
    "import warnings\n",
    "warnings.filterwarnings('ignore')"
   ]
  },
  {
   "cell_type": "code",
   "execution_count": 65,
   "metadata": {},
   "outputs": [],
   "source": [
    "train_start = df.dt.min()\n",
    "train_end = train_start + timedelta(days=60)"
   ]
  },
  {
   "cell_type": "code",
   "execution_count": 66,
   "metadata": {},
   "outputs": [
    {
     "data": {
      "text/plain": [
       "Timestamp('2017-08-17 00:00:00')"
      ]
     },
     "execution_count": 66,
     "metadata": {},
     "output_type": "execute_result"
    }
   ],
   "source": [
    "train_end"
   ]
  },
  {
   "cell_type": "code",
   "execution_count": 67,
   "metadata": {},
   "outputs": [],
   "source": [
    "test_start = train_start + timedelta(days=90)\n",
    "test_end = train_start + timedelta(days=120)"
   ]
  },
  {
   "cell_type": "code",
   "execution_count": 68,
   "metadata": {},
   "outputs": [
    {
     "data": {
      "text/plain": [
       "(Timestamp('2017-09-16 00:00:00'), Timestamp('2017-10-16 00:00:00'))"
      ]
     },
     "execution_count": 68,
     "metadata": {},
     "output_type": "execute_result"
    }
   ],
   "source": [
    "test_start,test_end"
   ]
  },
  {
   "cell_type": "code",
   "execution_count": 69,
   "metadata": {},
   "outputs": [
    {
     "data": {
      "text/plain": [
       "Timestamp('2017-06-18 00:00:00')"
      ]
     },
     "execution_count": 69,
     "metadata": {},
     "output_type": "execute_result"
    }
   ],
   "source": [
    "train_start"
   ]
  },
  {
   "cell_type": "code",
   "execution_count": 70,
   "metadata": {},
   "outputs": [
    {
     "name": "stdout",
     "output_type": "stream",
     "text": [
      "{59: [0.253385027940108], 73: [0.003532972125337208], 95: [nan], 152: [0.10687732665232286], 156: [-0.04634692501021187], 157: [0.0013281614382663065], 159: [0.012956653083821434], 160: [-0.015984624419893567], 225: [0.03990202014383004], 248: [-0.01387121454361362], 279: [0.017035911856294828], 291: [0.344890184485958], 292: [inf], 313: [-0.1810262179791482], 314: [0.05683432462683946]}\n",
      "{59: [0.253385027940108, 0.11015651903951085], 73: [0.003532972125337208, 0.05982659334313278], 95: [nan, nan], 152: [0.10687732665232286, 0.11536467190165411], 156: [-0.04634692501021187, -0.0019988639161167], 157: [0.0013281614382663065, -0.03012945607462636], 159: [0.012956653083821434, -0.008497933301617189], 160: [-0.015984624419893567, -0.0668157668490672], 225: [0.03990202014383004, -0.019733119785538267], 248: [-0.01387121454361362, 0.0027557104438895585], 279: [0.017035911856294828, -0.05177920707774519], 291: [0.344890184485958, 0.11494028350412933], 292: [inf], 313: [-0.1810262179791482, -0.10069965672537584], 314: [0.05683432462683946, 0.03968443267069266], 278: [0.1582787417245557], 5645: [1.6544154423004986]}\n",
      "{59: [0.253385027940108, 0.11015651903951085, -0.04071282551405553], 73: [0.003532972125337208, 0.05982659334313278, 0.21913101085860776], 95: [nan, nan, nan], 152: [0.10687732665232286, 0.11536467190165411, -0.06738859149149001], 156: [-0.04634692501021187, -0.0019988639161167, -0.057899888519800546], 157: [0.0013281614382663065, -0.03012945607462636, -0.047261109713766514], 159: [0.012956653083821434, -0.008497933301617189, 0.03866953462488687], 160: [-0.015984624419893567, -0.0668157668490672, 0.016752771300791558], 225: [0.03990202014383004, -0.019733119785538267], 248: [-0.01387121454361362, 0.0027557104438895585, 0.05625614999816975], 279: [0.017035911856294828, -0.05177920707774519, 0.02528593793681866], 291: [0.344890184485958, 0.11494028350412933, -0.08048091272477487], 292: [inf], 313: [-0.1810262179791482, -0.10069965672537584, -0.00036718606534780207], 314: [0.05683432462683946, 0.03968443267069266, -0.01076407633252452], 278: [0.1582787417245557, -0.002668329621601795], 5645: [1.6544154423004986, 0.08678826401466444], 5619: [0.04015689082746188], 5620: [0.04523694258378286], 5644: [0.4100794951490665], 5650: [0.08255295668216345]}\n",
      "{59: [0.253385027940108, 0.11015651903951085, -0.04071282551405553, -0.25478423189258914], 73: [0.003532972125337208, 0.05982659334313278, 0.21913101085860776, 0.09982135355320443], 95: [nan, nan, nan, nan], 152: [0.10687732665232286, 0.11536467190165411, -0.06738859149149001, -0.1472237649907615], 156: [-0.04634692501021187, -0.0019988639161167, -0.057899888519800546, -0.30072389327849147], 157: [0.0013281614382663065, -0.03012945607462636, -0.047261109713766514, -0.03895176837734138], 159: [0.012956653083821434, -0.008497933301617189, 0.03866953462488687, 0.016615419656311303], 160: [-0.015984624419893567, -0.0668157668490672, 0.016752771300791558, -0.055655923981098865], 225: [0.03990202014383004, -0.019733119785538267], 248: [-0.01387121454361362, 0.0027557104438895585, 0.05625614999816975, 0.07447206168051079], 279: [0.017035911856294828, -0.05177920707774519, 0.02528593793681866, 0.09824996903109984], 291: [0.344890184485958, 0.11494028350412933, -0.08048091272477487, -0.40749828063285043], 292: [inf], 313: [-0.1810262179791482, -0.10069965672537584, -0.00036718606534780207, -0.004217772084546767], 314: [0.05683432462683946, 0.03968443267069266, -0.01076407633252452, -0.09379660875495721], 278: [0.1582787417245557, -0.002668329621601795, -0.07408046710609983], 5645: [1.6544154423004986, 0.08678826401466444, 0.0022170851419320847], 5619: [0.04015689082746188, 0.012589221104449377], 5620: [0.04523694258378286, -0.014420581811913968], 5644: [0.4100794951490665, 0.18873261745082126], 5650: [0.08255295668216345, 0.7384936996944087]}\n",
      "{59: [0.253385027940108, 0.11015651903951085, -0.04071282551405553, -0.25478423189258914, -0.13214676565582462], 73: [0.003532972125337208, 0.05982659334313278, 0.21913101085860776, 0.09982135355320443, -0.0470641048013134], 95: [nan, nan, nan, nan, nan], 152: [0.10687732665232286, 0.11536467190165411, -0.06738859149149001, -0.1472237649907615, 0.056711801687396424], 156: [-0.04634692501021187, -0.0019988639161167, -0.057899888519800546, -0.30072389327849147, 0.02700587972479873], 157: [0.0013281614382663065, -0.03012945607462636, -0.047261109713766514, -0.03895176837734138, -0.043024075224947], 159: [0.012956653083821434, -0.008497933301617189, 0.03866953462488687, 0.016615419656311303], 160: [-0.015984624419893567, -0.0668157668490672, 0.016752771300791558, -0.055655923981098865, -0.030051021457694116], 225: [0.03990202014383004, -0.019733119785538267], 248: [-0.01387121454361362, 0.0027557104438895585, 0.05625614999816975, 0.07447206168051079], 279: [0.017035911856294828, -0.05177920707774519, 0.02528593793681866, 0.09824996903109984, 0.028829695508740594], 291: [0.344890184485958, 0.11494028350412933, -0.08048091272477487, -0.40749828063285043, -0.00034585572793233155], 292: [inf], 313: [-0.1810262179791482, -0.10069965672537584, -0.00036718606534780207, -0.004217772084546767, -0.03272410161267303], 314: [0.05683432462683946, 0.03968443267069266, -0.01076407633252452, -0.09379660875495721, -0.12383979715417404], 278: [0.1582787417245557, -0.002668329621601795, -0.07408046710609983, -0.11563443605860835], 5645: [1.6544154423004986, 0.08678826401466444, 0.0022170851419320847, 0.0515016861341], 5619: [0.04015689082746188, 0.012589221104449377, -0.048072279499930315], 5620: [0.04523694258378286, -0.014420581811913968, -0.03868937481165835], 5644: [0.4100794951490665, 0.18873261745082126, -0.05341200095347054], 5650: [0.08255295668216345, 0.7384936996944087]}\n",
      "{59: [0.253385027940108, 0.11015651903951085, -0.04071282551405553, -0.25478423189258914, -0.13214676565582462, -0.001832760433846392], 73: [0.003532972125337208, 0.05982659334313278, 0.21913101085860776, 0.09982135355320443, -0.0470641048013134, -0.09640859349446329], 95: [nan, nan, nan, nan, nan, -1.0], 152: [0.10687732665232286, 0.11536467190165411, -0.06738859149149001, -0.1472237649907615, 0.056711801687396424, 0.13073259470337928], 156: [-0.04634692501021187, -0.0019988639161167, -0.057899888519800546, -0.30072389327849147, 0.02700587972479873, 0.08938909274434459], 157: [0.0013281614382663065, -0.03012945607462636, -0.047261109713766514, -0.03895176837734138, -0.043024075224947, 0.017432536716995406], 159: [0.012956653083821434, -0.008497933301617189, 0.03866953462488687, 0.016615419656311303], 160: [-0.015984624419893567, -0.0668157668490672, 0.016752771300791558, -0.055655923981098865, -0.030051021457694116, -0.10534526057653393], 225: [0.03990202014383004, -0.019733119785538267], 248: [-0.01387121454361362, 0.0027557104438895585, 0.05625614999816975, 0.07447206168051079], 279: [0.017035911856294828, -0.05177920707774519, 0.02528593793681866, 0.09824996903109984, 0.028829695508740594, 0.01922538337580537], 291: [0.344890184485958, 0.11494028350412933, -0.08048091272477487, -0.40749828063285043, -0.00034585572793233155, 0.10523178830741742], 292: [inf, -0.034325255774520724], 313: [-0.1810262179791482, -0.10069965672537584, -0.00036718606534780207, -0.004217772084546767, -0.03272410161267303, -0.00043183067047336543], 314: [0.05683432462683946, 0.03968443267069266, -0.01076407633252452, -0.09379660875495721, -0.12383979715417404, -0.0973256913661048], 278: [0.1582787417245557, -0.002668329621601795, -0.07408046710609983, -0.11563443605860835, -0.0054438844892013005], 5645: [1.6544154423004986, 0.08678826401466444, 0.0022170851419320847, 0.0515016861341, 0.1644120181062365], 5619: [0.04015689082746188, 0.012589221104449377, -0.048072279499930315, -0.06553574082724134], 5620: [0.04523694258378286, -0.014420581811913968, -0.03868937481165835, -0.02199864977455246], 5644: [0.4100794951490665, 0.18873261745082126, -0.05341200095347054, 0.13150404682951633], 5650: [0.08255295668216345, 0.7384936996944087, 0.7789954604697844]}\n",
      "{59: [0.253385027940108, 0.11015651903951085, -0.04071282551405553, -0.25478423189258914, -0.13214676565582462, -0.001832760433846392, 0.08306012031198584], 73: [0.003532972125337208, 0.05982659334313278, 0.21913101085860776, 0.09982135355320443, -0.0470641048013134, -0.09640859349446329, 0.0189040334741728], 95: [nan, nan, nan, nan, nan, -1.0, -1.0], 152: [0.10687732665232286, 0.11536467190165411, -0.06738859149149001, -0.1472237649907615, 0.056711801687396424, 0.13073259470337928, -0.19535085781144024], 156: [-0.04634692501021187, -0.0019988639161167, -0.057899888519800546, -0.30072389327849147, 0.02700587972479873, 0.08938909274434459, 0.7166146004414715], 157: [0.0013281614382663065, -0.03012945607462636, -0.047261109713766514, -0.03895176837734138, -0.043024075224947, 0.017432536716995406, -0.08052233129454822], 159: [0.012956653083821434, -0.008497933301617189, 0.03866953462488687, 0.016615419656311303], 160: [-0.015984624419893567, -0.0668157668490672, 0.016752771300791558, -0.055655923981098865, -0.030051021457694116, -0.10534526057653393, 0.06251549225715136], 225: [0.03990202014383004, -0.019733119785538267], 248: [-0.01387121454361362, 0.0027557104438895585, 0.05625614999816975, 0.07447206168051079], 279: [0.017035911856294828, -0.05177920707774519, 0.02528593793681866, 0.09824996903109984, 0.028829695508740594, 0.01922538337580537, -0.03240128874847226], 291: [0.344890184485958, 0.11494028350412933, -0.08048091272477487, -0.40749828063285043, -0.00034585572793233155, 0.10523178830741742, 0.05221420555248635], 292: [inf, -0.034325255774520724, -0.016203202340901335], 313: [-0.1810262179791482, -0.10069965672537584, -0.00036718606534780207, -0.004217772084546767, -0.03272410161267303, -0.00043183067047336543, 0.0186874046430634], 314: [0.05683432462683946, 0.03968443267069266, -0.01076407633252452, -0.09379660875495721, -0.12383979715417404, -0.0973256913661048, -0.028618490504432437], 278: [0.1582787417245557, -0.002668329621601795, -0.07408046710609983, -0.11563443605860835, -0.0054438844892013005, -0.06200250036746846], 5645: [1.6544154423004986, 0.08678826401466444, 0.0022170851419320847, 0.0515016861341, 0.1644120181062365, 0.08215306681227941], 5619: [0.04015689082746188, 0.012589221104449377, -0.048072279499930315, -0.06553574082724134, -0.06136575927740762], 5620: [0.04523694258378286, -0.014420581811913968, -0.03868937481165835, -0.02199864977455246, -0.020944665482616642], 5644: [0.4100794951490665, 0.18873261745082126, -0.05341200095347054, 0.13150404682951633, 0.12016052087901352], 5650: [0.08255295668216345, 0.7384936996944087, 0.7789954604697844]}\n"
     ]
    },
    {
     "name": "stdout",
     "output_type": "stream",
     "text": [
      "{59: [0.253385027940108, 0.11015651903951085, -0.04071282551405553, -0.25478423189258914, -0.13214676565582462, -0.001832760433846392, 0.08306012031198584, -0.027279101734660083], 73: [0.003532972125337208, 0.05982659334313278, 0.21913101085860776, 0.09982135355320443, -0.0470641048013134, -0.09640859349446329, 0.0189040334741728, 0.009219796380635525], 95: [nan, nan, nan, nan, nan, -1.0, -1.0, -0.48923807139547115], 152: [0.10687732665232286, 0.11536467190165411, -0.06738859149149001, -0.1472237649907615, 0.056711801687396424, 0.13073259470337928, -0.19535085781144024, -0.2927686791328825], 156: [-0.04634692501021187, -0.0019988639161167, -0.057899888519800546, -0.30072389327849147, 0.02700587972479873, 0.08938909274434459, 0.7166146004414715, 0.443470880076116], 157: [0.0013281614382663065, -0.03012945607462636, -0.047261109713766514, -0.03895176837734138, -0.043024075224947, 0.017432536716995406, -0.08052233129454822, -0.022008436832726797], 159: [0.012956653083821434, -0.008497933301617189, 0.03866953462488687, 0.016615419656311303], 160: [-0.015984624419893567, -0.0668157668490672, 0.016752771300791558, -0.055655923981098865, -0.030051021457694116, -0.10534526057653393, 0.06251549225715136, 0.10822393970285682], 225: [0.03990202014383004, -0.019733119785538267], 248: [-0.01387121454361362, 0.0027557104438895585, 0.05625614999816975, 0.07447206168051079], 279: [0.017035911856294828, -0.05177920707774519, 0.02528593793681866, 0.09824996903109984, 0.028829695508740594, 0.01922538337580537, -0.03240128874847226, -0.05524441686869919], 291: [0.344890184485958, 0.11494028350412933, -0.08048091272477487, -0.40749828063285043, -0.00034585572793233155, 0.10523178830741742, 0.05221420555248635, -0.1431305281134304], 292: [inf, -0.034325255774520724, -0.016203202340901335, -0.04642673966115263], 313: [-0.1810262179791482, -0.10069965672537584, -0.00036718606534780207, -0.004217772084546767, -0.03272410161267303, -0.00043183067047336543, 0.0186874046430634, -0.010109274357318454], 314: [0.05683432462683946, 0.03968443267069266, -0.01076407633252452, -0.09379660875495721, -0.12383979715417404, -0.0973256913661048, -0.028618490504432437, -0.0675167167883386], 278: [0.1582787417245557, -0.002668329621601795, -0.07408046710609983, -0.11563443605860835, -0.0054438844892013005, -0.06200250036746846, -0.10942100166102997], 5645: [1.6544154423004986, 0.08678826401466444, 0.0022170851419320847, 0.0515016861341, 0.1644120181062365, 0.08215306681227941, -0.08507194259326056], 5619: [0.04015689082746188, 0.012589221104449377, -0.048072279499930315, -0.06553574082724134, -0.06136575927740762, -0.03871572769831544], 5620: [0.04523694258378286, -0.014420581811913968, -0.03868937481165835, -0.02199864977455246, -0.020944665482616642, -0.023067368252253306], 5644: [0.4100794951490665, 0.18873261745082126, -0.05341200095347054, 0.13150404682951633, 0.12016052087901352, 0.09002547159574492], 5650: [0.08255295668216345, 0.7384936996944087, 0.7789954604697844], 50065: [-0.07048638324661127], 50130: [-0.05891666718223343]}\n",
      "{59: [0.253385027940108, 0.11015651903951085, -0.04071282551405553, -0.25478423189258914, -0.13214676565582462, -0.001832760433846392, 0.08306012031198584, -0.027279101734660083, -0.2358710256733787], 73: [0.003532972125337208, 0.05982659334313278, 0.21913101085860776, 0.09982135355320443, -0.0470641048013134, -0.09640859349446329, 0.0189040334741728, 0.009219796380635525, -0.15150476702028925], 95: [nan, nan, nan, nan, nan, -1.0, -1.0, -0.48923807139547115, -0.24614379424908872], 152: [0.10687732665232286, 0.11536467190165411, -0.06738859149149001, -0.1472237649907615, 0.056711801687396424, 0.13073259470337928, -0.19535085781144024, -0.2927686791328825, -0.13133036199168802], 156: [-0.04634692501021187, -0.0019988639161167, -0.057899888519800546, -0.30072389327849147, 0.02700587972479873, 0.08938909274434459, 0.7166146004414715, 0.443470880076116, -0.1635264432793594], 157: [0.0013281614382663065, -0.03012945607462636, -0.047261109713766514, -0.03895176837734138, -0.043024075224947, 0.017432536716995406, -0.08052233129454822, -0.022008436832726797, 0.032702348474737075], 159: [0.012956653083821434, -0.008497933301617189, 0.03866953462488687, 0.016615419656311303], 160: [-0.015984624419893567, -0.0668157668490672, 0.016752771300791558, -0.055655923981098865, -0.030051021457694116, -0.10534526057653393, 0.06251549225715136, 0.10822393970285682, 0.11710959675649057], 225: [0.03990202014383004, -0.019733119785538267], 248: [-0.01387121454361362, 0.0027557104438895585, 0.05625614999816975, 0.07447206168051079], 279: [0.017035911856294828, -0.05177920707774519, 0.02528593793681866, 0.09824996903109984, 0.028829695508740594, 0.01922538337580537, -0.03240128874847226, -0.05524441686869919, -0.036100128732263426], 291: [0.344890184485958, 0.11494028350412933, -0.08048091272477487, -0.40749828063285043, -0.00034585572793233155, 0.10523178830741742, 0.05221420555248635, -0.1431305281134304, -0.12057332401203236], 292: [inf, -0.034325255774520724, -0.016203202340901335, -0.04642673966115263, -0.10289413364578737], 313: [-0.1810262179791482, -0.10069965672537584, -0.00036718606534780207, -0.004217772084546767, -0.03272410161267303, -0.00043183067047336543, 0.0186874046430634, -0.010109274357318454, -0.0208836285279711], 314: [0.05683432462683946, 0.03968443267069266, -0.01076407633252452, -0.09379660875495721, -0.12383979715417404, -0.0973256913661048, -0.028618490504432437, -0.0675167167883386, 0.01734680861052662], 278: [0.1582787417245557, -0.002668329621601795, -0.07408046710609983, -0.11563443605860835, -0.0054438844892013005, -0.06200250036746846, -0.10942100166102997, -0.06525749458280017], 5645: [1.6544154423004986, 0.08678826401466444, 0.0022170851419320847, 0.0515016861341, 0.1644120181062365, 0.08215306681227941, -0.08507194259326056, -0.07990907340816455], 5619: [0.04015689082746188, 0.012589221104449377, -0.048072279499930315, -0.06553574082724134, -0.06136575927740762, -0.03871572769831544, 0.03797680675648962], 5620: [0.04523694258378286, -0.014420581811913968, -0.03868937481165835, -0.02199864977455246, -0.020944665482616642, -0.023067368252253306, -0.036420598814123406], 5644: [0.4100794951490665, 0.18873261745082126, -0.05341200095347054, 0.13150404682951633, 0.12016052087901352, 0.09002547159574492, -0.06158526565518807], 5650: [0.08255295668216345, 0.7384936996944087, 0.7789954604697844], 50065: [-0.07048638324661127, -0.09034002812327269], 50130: [-0.05891666718223343, -0.15621780114297867]}\n",
      "{59: [0.253385027940108, 0.11015651903951085, -0.04071282551405553, -0.25478423189258914, -0.13214676565582462, -0.001832760433846392, 0.08306012031198584, -0.027279101734660083, -0.2358710256733787], 73: [0.003532972125337208, 0.05982659334313278, 0.21913101085860776, 0.09982135355320443, -0.0470641048013134, -0.09640859349446329, 0.0189040334741728, 0.009219796380635525, -0.15150476702028925], 95: [nan, nan, nan, nan, nan, -1.0, -1.0, -0.48923807139547115, -0.24614379424908872], 152: [0.10687732665232286, 0.11536467190165411, -0.06738859149149001, -0.1472237649907615, 0.056711801687396424, 0.13073259470337928, -0.19535085781144024, -0.2927686791328825, -0.13133036199168802], 156: [-0.04634692501021187, -0.0019988639161167, -0.057899888519800546, -0.30072389327849147, 0.02700587972479873, 0.08938909274434459, 0.7166146004414715, 0.443470880076116, -0.1635264432793594], 157: [0.0013281614382663065, -0.03012945607462636, -0.047261109713766514, -0.03895176837734138, -0.043024075224947, 0.017432536716995406, -0.08052233129454822, -0.022008436832726797, 0.032702348474737075], 159: [0.012956653083821434, -0.008497933301617189, 0.03866953462488687, 0.016615419656311303], 160: [-0.015984624419893567, -0.0668157668490672, 0.016752771300791558, -0.055655923981098865, -0.030051021457694116, -0.10534526057653393, 0.06251549225715136, 0.10822393970285682, 0.11710959675649057], 225: [0.03990202014383004, -0.019733119785538267], 248: [-0.01387121454361362, 0.0027557104438895585, 0.05625614999816975, 0.07447206168051079], 279: [0.017035911856294828, -0.05177920707774519, 0.02528593793681866, 0.09824996903109984, 0.028829695508740594, 0.01922538337580537, -0.03240128874847226, -0.05524441686869919, -0.036100128732263426], 291: [0.344890184485958, 0.11494028350412933, -0.08048091272477487, -0.40749828063285043, -0.00034585572793233155, 0.10523178830741742, 0.05221420555248635, -0.1431305281134304, -0.12057332401203236], 292: [inf, -0.034325255774520724, -0.016203202340901335, -0.04642673966115263, -0.10289413364578737], 313: [-0.1810262179791482, -0.10069965672537584, -0.00036718606534780207, -0.004217772084546767, -0.03272410161267303, -0.00043183067047336543, 0.0186874046430634, -0.010109274357318454, -0.0208836285279711], 314: [0.05683432462683946, 0.03968443267069266, -0.01076407633252452, -0.09379660875495721, -0.12383979715417404, -0.0973256913661048, -0.028618490504432437, -0.0675167167883386, 0.01734680861052662], 278: [0.1582787417245557, -0.002668329621601795, -0.07408046710609983, -0.11563443605860835, -0.0054438844892013005, -0.06200250036746846, -0.10942100166102997, -0.06525749458280017], 5645: [1.6544154423004986, 0.08678826401466444, 0.0022170851419320847, 0.0515016861341, 0.1644120181062365, 0.08215306681227941, -0.08507194259326056, -0.07990907340816455], 5619: [0.04015689082746188, 0.012589221104449377, -0.048072279499930315, -0.06553574082724134, -0.06136575927740762, -0.03871572769831544, 0.03797680675648962], 5620: [0.04523694258378286, -0.014420581811913968, -0.03868937481165835, -0.02199864977455246, -0.020944665482616642, -0.023067368252253306, -0.036420598814123406], 5644: [0.4100794951490665, 0.18873261745082126, -0.05341200095347054, 0.13150404682951633, 0.12016052087901352, 0.09002547159574492, -0.06158526565518807], 5650: [0.08255295668216345, 0.7384936996944087, 0.7789954604697844], 50065: [-0.07048638324661127, -0.09034002812327269], 50130: [-0.05891666718223343, -0.15621780114297867]}\n"
     ]
    }
   ],
   "source": [
    "errors = {}\n",
    "\n",
    "while test_end < df.dt.max():\n",
    "    train_df = df[(df.dt >= train_start) & (df.dt < train_end)]\n",
    "    valid_df = df[(df.dt >= test_start) & (df.dt < test_end )]\n",
    "    for id_app, sub_df in train_df.groupby('idApp'):\n",
    "     \n",
    "    \n",
    "        X,y = sub_df[features],sub_df.ltvDay30\n",
    "        X_valid = valid_df.loc[valid_df['idApp']==id_app,features]\n",
    "        y_valid = valid_df.loc[valid_df['idApp']==id_app,'ltvDay30']\n",
    "        \n",
    "        \n",
    "        if X.shape[0] >= MIN_TRAIN_SIZE and X_valid.shape[0] > 0:\n",
    "            ridge.fit(X,y)\n",
    "            pred = ridge.predict(X_valid)\n",
    "            error = pred.sum()/y_valid.sum() -1\n",
    "            \n",
    "            \n",
    "            if id_app in errors:\n",
    "                if errors[id_app]:\n",
    "                    errors[id_app].append(error)\n",
    "                else:\n",
    "                    errors[id_app] = [error]\n",
    "            else:\n",
    "                errors[id_app] = [error]\n",
    "    print(errors)\n",
    "    train_start +=timedelta(days=step)\n",
    "    train_end +=timedelta(days=step)\n",
    "    test_start += timedelta(days=step)\n",
    "    test_end += timedelta(days=step)\n",
    "\n",
    "print(errors)"
   ]
  },
  {
   "cell_type": "code",
   "execution_count": 72,
   "metadata": {},
   "outputs": [
    {
     "data": {
      "text/plain": [
       "23"
      ]
     },
     "execution_count": 72,
     "metadata": {},
     "output_type": "execute_result"
    }
   ],
   "source": [
    "len(errors) \n"
   ]
  },
  {
   "cell_type": "code",
   "execution_count": 74,
   "metadata": {},
   "outputs": [],
   "source": [
    "top5_apps=df.idApp.value_counts().head(5).index"
   ]
  },
  {
   "cell_type": "code",
   "execution_count": 76,
   "metadata": {},
   "outputs": [
    {
     "data": {
      "text/plain": [
       "Int64Index([5620, 279, 5619, 278, 313], dtype='int64')"
      ]
     },
     "execution_count": 76,
     "metadata": {},
     "output_type": "execute_result"
    }
   ],
   "source": [
    "top5_apps"
   ]
  },
  {
   "cell_type": "code",
   "execution_count": 82,
   "metadata": {},
   "outputs": [
    {
     "data": {
      "text/plain": [
       "<matplotlib.legend.Legend at 0x1bf869208c8>"
      ]
     },
     "execution_count": 82,
     "metadata": {},
     "output_type": "execute_result"
    },
    {
     "data": {
      "image/png": "[encoded data removed]",
      "text/plain": [
       "<Figure size 432x288 with 1 Axes>"
      ]
     },
     "metadata": {
      "needs_background": "light"
     },
     "output_type": "display_data"
    }
   ],
   "source": [
    "for id_app in top5_apps:\n",
    "    plt.plot(list(range(len(errors[id_app]))),errors[id_app],label=id_app);\n",
    "plt.legend()"
   ]
  },
  {
   "cell_type": "code",
   "execution_count": 84,
   "metadata": {},
   "outputs": [],
   "source": [
    "five_apps = df.idApp.value_counts().iloc[5:10].index"
   ]
  },
  {
   "cell_type": "code",
   "execution_count": 86,
   "metadata": {},
   "outputs": [
    {
     "data": {
      "text/plain": [
       "Int64Index([314, 95, 5645, 5644, 156], dtype='int64')"
      ]
     },
     "execution_count": 86,
     "metadata": {},
     "output_type": "execute_result"
    }
   ],
   "source": [
    "five_apps"
   ]
  },
  {
   "cell_type": "code",
   "execution_count": 90,
   "metadata": {},
   "outputs": [
    {
     "data": {
      "text/plain": [
       "314     166953\n",
       "95      129041\n",
       "5645    115304\n",
       "5644     53333\n",
       "156      48223\n",
       "Name: idApp, dtype: int64"
      ]
     },
     "execution_count": 90,
     "metadata": {},
     "output_type": "execute_result"
    }
   ],
   "source": [
    "df.idApp.value_counts().iloc[5:10]"
   ]
  },
  {
   "cell_type": "code",
   "execution_count": 92,
   "metadata": {},
   "outputs": [
    {
     "data": {
      "text/plain": [
       "<matplotlib.legend.Legend at 0x1bfac97be48>"
      ]
     },
     "execution_count": 92,
     "metadata": {},
     "output_type": "execute_result"
    },
    {
     "data": {
      "image/png": "[encoded data removed]",
      "text/plain": [
       "<Figure size 432x288 with 1 Axes>"
      ]
     },
     "metadata": {
      "needs_background": "light"
     },
     "output_type": "display_data"
    }
   ],
   "source": [
    "for id_app in five_apps:\n",
    "    plt.plot(list(range(len(errors[id_app]))),errors[id_app],label=id_app)\n",
    "plt.legend()"
   ]
  },
  {
   "cell_type": "code",
   "execution_count": 94,
   "metadata": {},
   "outputs": [],
   "source": [
    "five_apps = df.idApp.value_counts().iloc[10:15].index"
   ]
  },
  {
   "cell_type": "code",
   "execution_count": 95,
   "metadata": {},
   "outputs": [
    {
     "data": {
      "text/plain": [
       "<matplotlib.legend.Legend at 0x1bfad485648>"
      ]
     },
     "execution_count": 95,
     "metadata": {},
     "output_type": "execute_result"
    },
    {
     "data": {
      "image/png": "[encoded data removed]",
      "text/plain": [
       "<Figure size 432x288 with 1 Axes>"
      ]
     },
     "metadata": {
      "needs_background": "light"
     },
     "output_type": "display_data"
    }
   ],
   "source": [
    "for id_app in five_apps:\n",
    "    plt.plot(list(range(len(errors[id_app]))),errors[id_app],label=id_app)\n",
    "plt.legend()\n"
   ]
  }
 ],
 "metadata": {
  "kernelspec": {
   "display_name": "Python 3",
   "language": "python",
   "name": "python3"
  },
  "language_info": {
   "codemirror_mode": {
    "name": "ipython",
    "version": 3
   },
   "file_extension": ".py",
   "mimetype": "text/x-python",
   "name": "python",
   "nbconvert_exporter": "python",
   "pygments_lexer": "ipython3",
   "version": "3.7.4"
  },
  "widgets": {
   "application/vnd.jupyter.widget-state+json": {
    "state": {},
    "version_major": 2,
    "version_minor": 0
   }
  }
 },
 "nbformat": 4,
 "nbformat_minor": 2
}
